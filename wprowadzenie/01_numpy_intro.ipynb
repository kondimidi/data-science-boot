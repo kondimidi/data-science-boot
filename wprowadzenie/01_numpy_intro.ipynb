{
  "cells": [
    {
      "cell_type": "markdown",
      "metadata": {
        "id": "view-in-github",
        "colab_type": "text"
      },
      "source": [
        "<a href=\"https://colab.research.google.com/github/kondimidi/data-science-boot/blob/main/01_numpy_intro.ipynb\" target=\"_parent\"><img src=\"https://colab.research.google.com/assets/colab-badge.svg\" alt=\"Open In Colab\"/></a>"
      ]
    },
    {
      "cell_type": "markdown",
      "metadata": {
        "id": "ZlL4HqNannLQ"
      },
      "source": [
        "### NumPy\n",
        ">Strona biblioteki: [https://numpy.org/](https://numpy.org/)  \n",
        ">Dokumentacja: [https://numpy.org/doc/](https://numpy.org/doc/)  \n",
        ">\n",
        ">Podstawowa biblioteka do obliczeń numerycznych w języku Python.\n",
        ">\n",
        ">Aby zainstalować bibliotekę NumPy, użyj polecenia poniżej:\n",
        "```\n",
        "pip install numpy\n",
        "```\n",
        "\n",
        "### Spis treści:\n",
        "1. [Podstawy](#a1)\n",
        "2. [Typy danych](#a2)\n",
        "3. [Tworzenie tablic](#a3)\n",
        "4. [Podstawowe operacje na tablicach](#a4)\n",
        "5. [Generowanie liczb pseudolosowych](#a5)\n",
        "6. [Podstawowe funkcje](#a6)\n",
        "7. [Indeksowanie, Wycinanie](#a7)\n",
        "8. [Iteracja po tablicach](#a8)\n",
        "9. [Zmiana rozmiaru tablic](#a9)\n",
        "10. [Maski logiczne](#a10)\n"
      ]
    },
    {
      "cell_type": "markdown",
      "metadata": {
        "id": "IMpcjlz1rxLL"
      },
      "source": [
        "### <a name='a1'></a> Podstawy"
      ]
    },
    {
      "cell_type": "code",
      "execution_count": 3,
      "metadata": {
        "colab": {
          "base_uri": "https://localhost:8080/",
          "height": 35
        },
        "id": "liUwW0GyX6rZ",
        "outputId": "5e3b7065-50dd-4e65-edd4-4c8ed3bacf15"
      },
      "outputs": [
        {
          "output_type": "execute_result",
          "data": {
            "text/plain": [
              "'1.26.4'"
            ],
            "application/vnd.google.colaboratory.intrinsic+json": {
              "type": "string"
            }
          },
          "metadata": {},
          "execution_count": 3
        }
      ],
      "source": [
        "import numpy as np\n",
        "np.__version__"
      ]
    },
    {
      "cell_type": "code",
      "execution_count": null,
      "metadata": {
        "id": "dAgLPBdCYMhF"
      },
      "outputs": [],
      "source": [
        "print(dir(np))"
      ]
    },
    {
      "cell_type": "code",
      "execution_count": null,
      "metadata": {
        "id": "nv9jqgzoYdSl"
      },
      "outputs": [],
      "source": [
        "help(np.array)"
      ]
    },
    {
      "cell_type": "markdown",
      "metadata": {
        "id": "k2tFMBzHvwqU"
      },
      "source": [
        "1D Array"
      ]
    },
    {
      "cell_type": "code",
      "execution_count": null,
      "metadata": {
        "colab": {
          "base_uri": "https://localhost:8080/"
        },
        "id": "Uaa1zSelY0mz",
        "outputId": "83ddac19-a126-4816-80e9-22125ec84621"
      },
      "outputs": [
        {
          "output_type": "stream",
          "name": "stdout",
          "text": [
            "<class 'numpy.ndarray'>\n",
            "wymiar: 1\n",
            "ksztalt: (2,)\n",
            "rozmiar: 2\n",
            "typ danych: int64\n",
            "[1 3]\n"
          ]
        },
        {
          "output_type": "execute_result",
          "data": {
            "text/plain": [
              "array([1, 3])"
            ]
          },
          "metadata": {},
          "execution_count": 12
        }
      ],
      "source": [
        "x = np.array([1, 3])\n",
        "print(type(x))\n",
        "print(\"wymiar:\",x.ndim)\n",
        "print(\"ksztalt:\",x.shape)\n",
        "print(\"rozmiar:\",x.size)\n",
        "print(\"typ danych:\", x.dtype)\n",
        "print(x)\n",
        "x"
      ]
    },
    {
      "cell_type": "markdown",
      "source": [
        "*2D* Array"
      ],
      "metadata": {
        "id": "I1fPdyqqTLgv"
      }
    },
    {
      "cell_type": "code",
      "execution_count": null,
      "metadata": {
        "colab": {
          "base_uri": "https://localhost:8080/"
        },
        "id": "z_RPy2eBaWWW",
        "outputId": "67cc453e-52e5-4d45-cb6e-a12a45046ba7"
      },
      "outputs": [
        {
          "output_type": "stream",
          "name": "stdout",
          "text": [
            "<class 'numpy.ndarray'>\n",
            "wymiar: 2\n",
            "ksztalt: (2, 2)\n",
            "rozmiar: 4\n"
          ]
        },
        {
          "output_type": "execute_result",
          "data": {
            "text/plain": [
              "array([[ 1,  3],\n",
              "       [-3,  1]])"
            ]
          },
          "metadata": {},
          "execution_count": 14
        }
      ],
      "source": [
        "x = np.array([[1, 3],[-3,1]])\n",
        "print(type(x))\n",
        "print(\"wymiar:\",x.ndim)\n",
        "print(\"ksztalt:\",x.shape)\n",
        "print(\"rozmiar:\",x.size)\n",
        "x"
      ]
    },
    {
      "cell_type": "markdown",
      "metadata": {
        "id": "v6ojTlPywsFW"
      },
      "source": [
        "3D Array"
      ]
    },
    {
      "cell_type": "code",
      "execution_count": null,
      "metadata": {
        "colab": {
          "base_uri": "https://localhost:8080/"
        },
        "id": "afnINRJ-ba09",
        "outputId": "6f121917-f058-4ffb-92ee-328d685aac59"
      },
      "outputs": [
        {
          "output_type": "stream",
          "name": "stdout",
          "text": [
            "wymiar: 3\n",
            "ksztalt: (3, 2, 3)\n",
            "rozmiar: 18\n"
          ]
        },
        {
          "output_type": "execute_result",
          "data": {
            "text/plain": [
              "array([[[4, 3, 1],\n",
              "        [3, 1, 2]],\n",
              "\n",
              "       [[4, 1, 3],\n",
              "        [4, 2, 1]],\n",
              "\n",
              "       [[3, 2, 1],\n",
              "        [4, 3, 2]]])"
            ]
          },
          "metadata": {},
          "execution_count": 15
        }
      ],
      "source": [
        "x = np.array(\n",
        "    [[[4, 3, 1],\n",
        "      [3, 1, 2]],\n",
        "\n",
        "     [[4, 1, 3],\n",
        "      [4, 2, 1]],\n",
        "\n",
        "     [[3, 2, 1],\n",
        "      [4, 3, 2]]]\n",
        ")\n",
        "print(\"wymiar:\",x.ndim)\n",
        "print(\"ksztalt:\",x.shape)\n",
        "print(\"rozmiar:\",x.size)\n",
        "x"
      ]
    },
    {
      "cell_type": "markdown",
      "metadata": {
        "id": "7e_t9WDPyxwI"
      },
      "source": [
        "### <a name='a2'></a> Typy danych"
      ]
    },
    {
      "cell_type": "code",
      "execution_count": null,
      "metadata": {
        "colab": {
          "base_uri": "https://localhost:8080/"
        },
        "id": "MVgNvIAjc25D",
        "outputId": "3927c13f-c0b9-497d-d2b5-2e32ab343066"
      },
      "outputs": [
        {
          "output_type": "stream",
          "name": "stdout",
          "text": [
            "int64\n",
            "float64\n",
            "float64\n",
            "complex128\n",
            "int64\n",
            "bool\n",
            "int8\n",
            "uint8\n"
          ]
        }
      ],
      "source": [
        "A = np.array([1, 2])\n",
        "print(A.dtype)\n",
        "A = np.array([1.2, 2.3])\n",
        "print(A.dtype)\n",
        "A = np.array([1, 2], dtype=\"float\")\n",
        "print(A.dtype)\n",
        "A = np.array([1.2, 2.3], dtype=\"complex\")\n",
        "print(A.dtype)\n",
        "A = np.array([1.2, 2.3], dtype=\"int\")\n",
        "print(A.dtype)\n",
        "A = np.array([False, True])\n",
        "print(A.dtype)\n",
        "A = np.array([120, 124], dtype=np.int8)\n",
        "print(A.dtype)\n",
        "A = np.array([25, 64], dtype=np.uint8)\n",
        "print(A.dtype)"
      ]
    },
    {
      "cell_type": "markdown",
      "metadata": {
        "id": "LJBVmwy0zYUI"
      },
      "source": [
        "### <a name='a3'></a> Tworzenie tablic"
      ]
    },
    {
      "cell_type": "code",
      "execution_count": null,
      "metadata": {
        "colab": {
          "base_uri": "https://localhost:8080/"
        },
        "id": "zEuE1HaTeO6_",
        "outputId": "afa19aea-acc0-47fe-9e1c-8b6c09be7b98"
      },
      "outputs": [
        {
          "output_type": "execute_result",
          "data": {
            "text/plain": [
              "array([0. , 0.1, 0.2, 0.3, 0.4, 0.5, 0.6, 0.7, 0.8, 0.9, 1. ])"
            ]
          },
          "metadata": {},
          "execution_count": 48
        }
      ],
      "source": [
        "np.zeros(shape=(4, 10))\n",
        "np.zeros(shape=(4, 10), dtype='int')\n",
        "np.ones(shape=(5, 5))\n",
        "np.ones(shape=(5, 5), dtype=\"int\")\n",
        "np.full(shape=(3, 3), fill_value=4, dtype='int')\n",
        "np.arange(10)\n",
        "np.arange(start=5, stop=10)\n",
        "np.arange(start=10, stop=100, step=10)\n",
        "np.arange(start=100, stop=10, step=-10)\n",
        "np.arange(start=0, stop=1, step=0.05)\n",
        "np.linspace(start=0, stop=1, num=11) # w liniowy sposob tworzy zbiór liczb od podanego zakresu"
      ]
    },
    {
      "cell_type": "code",
      "execution_count": null,
      "metadata": {
        "colab": {
          "base_uri": "https://localhost:8080/"
        },
        "id": "E5J8GDVafyCp",
        "outputId": "e1397744-94fc-4add-de63-d3e29857e431"
      },
      "outputs": [
        {
          "output_type": "stream",
          "name": "stdout",
          "text": [
            "[[ 0  1  2  3  4]\n",
            " [ 5  6  7  8  9]\n",
            " [10 11 12 13 14]] \n",
            "\n",
            "[[ 0  1  2  3  4]\n",
            " [ 5  6  7  8  9]\n",
            " [10 11 12 13 14]] \n",
            "\n",
            "[[ 0  1  2]\n",
            " [ 3  4  5]\n",
            " [ 6  7  8]\n",
            " [ 9 10 11]\n",
            " [12 13 14]]\n"
          ]
        }
      ],
      "source": [
        "A = np.arange(15)\n",
        "print(A.reshape((3, 5)),\"\\n\")\n",
        "print(A.reshape((3, -1)),\"\\n\")\n",
        "print(A.reshape((-1, 3)))"
      ]
    },
    {
      "cell_type": "markdown",
      "metadata": {
        "id": "EyXM5Qfi5gfR"
      },
      "source": [
        "### <a name='a4'></a> Podstawowe operacje na tablicach"
      ]
    },
    {
      "cell_type": "code",
      "execution_count": null,
      "metadata": {
        "colab": {
          "base_uri": "https://localhost:8080/"
        },
        "id": "K95rVbtvpGMG",
        "outputId": "c886eba6-ffeb-4829-8bcb-ab7260e248d0"
      },
      "outputs": [
        {
          "output_type": "stream",
          "name": "stdout",
          "text": [
            "[3 1 4 2]\n",
            "[ 3 -1  3  2]\n"
          ]
        }
      ],
      "source": [
        "A = np.array([3, 1, 4, 2])\n",
        "B = np.array([3, -1, 3, 2])\n",
        "print(A)\n",
        "print(B)"
      ]
    },
    {
      "cell_type": "code",
      "execution_count": null,
      "metadata": {
        "colab": {
          "base_uri": "https://localhost:8080/"
        },
        "id": "bYFJjd6vpQHL",
        "outputId": "08070fcf-ff54-49a3-e1d3-cf01775ab5e7"
      },
      "outputs": [
        {
          "output_type": "stream",
          "name": "stdout",
          "text": [
            "[6 0 7 4]\n",
            "[0 2 1 0]\n",
            "[ 9 -1 12  4]\n",
            "[ 1.         -1.          1.33333333  1.        ]\n",
            "[6 4 7 5]\n",
            "[ 6 -2  6  4]\n",
            "[12 -2 13  8]\n"
          ]
        }
      ],
      "source": [
        "print(A + B) # np.add(A, B)\n",
        "print(A - B) # np.subtract(A, B)\n",
        "print(A * B) # np.multiply(A, B)\n",
        "print(A / B) # np.divide(A, B)\n",
        "print(A + 3)\n",
        "print(2 * B)\n",
        "print(A + 3*B)"
      ]
    },
    {
      "cell_type": "code",
      "execution_count": null,
      "metadata": {
        "colab": {
          "base_uri": "https://localhost:8080/"
        },
        "id": "-56cLPk2pynF",
        "outputId": "8aa707ea-082d-4ac7-9b10-aa2e6ef42f87"
      },
      "outputs": [
        {
          "output_type": "stream",
          "name": "stdout",
          "text": [
            "[[ 1  3]\n",
            " [-2  0]] \n",
            "\n",
            "[[ 6  0]\n",
            " [-1  2]] \n",
            "\n",
            "[[6 0]\n",
            " [2 0]] \n",
            "\n",
            "[[  3   6]\n",
            " [-12   0]] \n",
            "\n",
            "[[ 6 18]\n",
            " [-5 -3]]\n"
          ]
        }
      ],
      "source": [
        "X = np.array([[1, 3], [-2, 0]])\n",
        "Y = np.array([[6, 0], [-1, 2]])\n",
        "print(X, \"\\n\")\n",
        "print(Y, \"\\n\")\n",
        "print(X * Y, \"\\n\")\n",
        "print(np.dot(X, Y), \"\\n\") # X.dot(Y) or X @ Y\n",
        "print(np.dot(Y, X)) # Y.dot(X)"
      ]
    },
    {
      "cell_type": "markdown",
      "metadata": {
        "id": "lJEtsLBt8VTS"
      },
      "source": [
        "### <a name='a5'></a>  Generowanie liczb pseudolosowych"
      ]
    },
    {
      "cell_type": "code",
      "execution_count": null,
      "metadata": {
        "id": "RNe18NQvsgAX"
      },
      "outputs": [],
      "source": [
        "np.random.seed(0)"
      ]
    },
    {
      "cell_type": "code",
      "execution_count": null,
      "metadata": {
        "colab": {
          "base_uri": "https://localhost:8080/"
        },
        "id": "Jj0FPV3FsoId",
        "outputId": "2ffb6d94-8a87-453b-dde8-529c0a1f2a37",
        "collapsed": true
      },
      "outputs": [
        {
          "output_type": "stream",
          "name": "stdout",
          "text": [
            "0.20242608729688663 \n",
            "\n",
            "[ 0.31933301 -1.3523424   0.27772306  0.18457457 -1.25469921 -0.7565587\n",
            " -0.46741331 -0.5551765  -1.55985259  0.15361791] \n",
            "\n",
            "[[ 1.38999749 -0.13195934  1.41822049  0.48982838]\n",
            " [ 0.70456266 -1.013125   -1.79857314  1.00164624]\n",
            " [ 0.81232609 -1.35449545 -0.14770036 -0.59341733]\n",
            " [-0.82645807  0.484556    0.86270852 -2.27351586]\n",
            " [ 0.50633727 -0.58689872 -0.9192248   0.09789822]\n",
            " [-2.55922531 -0.13132399  1.6884582   0.802529  ]\n",
            " [-0.1493873  -0.24722497  1.13533209 -0.94737592]\n",
            " [ 0.22643549  0.72515379 -0.78113307  0.09203348]\n",
            " [-0.71391544 -1.27026775  1.613501    0.04607295]\n",
            " [-0.70865191  0.22839476  0.01061698 -0.92811844]] \n",
            "\n",
            "0.31179841962895294 \n",
            "\n",
            "[0.29546647 0.35605627 0.85436384 0.47893749 0.48208261 0.38340387\n",
            " 0.37477046 0.255377   0.62375088 0.16597864] \n",
            "\n",
            "[[0.82664658 0.23974977]\n",
            " [0.18467558 0.31954432]\n",
            " [0.0474108  0.39043457]\n",
            " [0.88562442 0.08161563]\n",
            " [0.80193953 0.2171431 ]\n",
            " [0.65718949 0.58370206]\n",
            " [0.83727654 0.60428042]\n",
            " [0.06531287 0.44205321]\n",
            " [0.61928204 0.44847546]\n",
            " [0.48834925 0.68744143]] \n",
            "\n",
            "4 \n",
            "\n",
            "68 \n",
            "\n",
            "4 \n",
            "\n",
            "sql \n",
            "\n"
          ]
        }
      ],
      "source": [
        "print(np.random.randn(), \"\\n\")\n",
        "print(np.random.randn(10), \"\\n\")\n",
        "print(np.random.randn(10, 4), \"\\n\")\n",
        "print(np.random.rand(), \"\\n\")\n",
        "print(np.random.rand(10), \"\\n\")\n",
        "print(np.random.rand(10, 2), \"\\n\")\n",
        "print(np.random.randint(10), \"\\n\")\n",
        "print(np.random.randint(low=10, high=101), \"\\n\")\n",
        "print(np.random.choice([4, 2, 1, 3, 5]), \"\\n\")\n",
        "print(np.random.choice(['python', 'java', 'sql']), \"\\n\")"
      ]
    },
    {
      "cell_type": "code",
      "execution_count": null,
      "metadata": {
        "colab": {
          "base_uri": "https://localhost:8080/"
        },
        "id": "V_7pdPoStv51",
        "outputId": "2463aad0-c1c5-4c5b-f1e7-1670099e03d8"
      },
      "outputs": [
        {
          "output_type": "stream",
          "name": "stdout",
          "text": [
            "[0 1 2 3 4 5 6 7 8 9] \n",
            "\n"
          ]
        },
        {
          "output_type": "execute_result",
          "data": {
            "text/plain": [
              "array([6, 1, 9, 7, 2, 0, 3, 4, 5, 8])"
            ]
          },
          "metadata": {},
          "execution_count": 69
        }
      ],
      "source": [
        "data = np.arange(10)\n",
        "print(data, \"\\n\")\n",
        "np.random.shuffle(data)\n",
        "data"
      ]
    },
    {
      "cell_type": "markdown",
      "metadata": {
        "id": "p-kIfyzu-vaD"
      },
      "source": [
        "### <a name='a6'></a> Podstawowe funkcje"
      ]
    },
    {
      "cell_type": "code",
      "execution_count": 11,
      "metadata": {
        "colab": {
          "base_uri": "https://localhost:8080/"
        },
        "id": "woTpWmBOvAlx",
        "outputId": "8d05e23e-aa36-4016-e493-18e28a76b8c3"
      },
      "outputs": [
        {
          "output_type": "stream",
          "name": "stdout",
          "text": [
            "True\n",
            "True\n",
            "True\n"
          ]
        }
      ],
      "source": [
        "np.exp(1) # liczba Eulera\n",
        "np.sqrt(9)\n",
        "print(np.all([2, 1, 3])) # 0 = False\n",
        "print(np.any([0, 1, 0]))\n",
        "print(bool(1.3))"
      ]
    },
    {
      "cell_type": "code",
      "execution_count": 24,
      "metadata": {
        "colab": {
          "base_uri": "https://localhost:8080/"
        },
        "id": "fivP8kXCvqJu",
        "outputId": "0e80fe11-3a19-4fa6-9496-dce9729d942e"
      },
      "outputs": [
        {
          "output_type": "stream",
          "name": "stdout",
          "text": [
            "[0.12491905 0.54809911 0.46269315 0.30661857 0.07421721]\n",
            "0.5480991082503662\n",
            "0.07421721322901542\n",
            "posortowanie po pozycji: [4 0 3 2 1]\n",
            "max: 0.5480991082503662\n",
            "min: 0.07421721322901542\n",
            "srednia: 0.30330941853648163\n",
            "mediana: 0.30661857494670486\n",
            "odchylenie standardowe: 0.18419689501746234\n"
          ]
        }
      ],
      "source": [
        "A = np.random.rand(5)\n",
        "print(A)\n",
        "print(A[np.argmax(A)])\n",
        "print(A[np.argmin(A)])\n",
        "print(\"posortowanie po pozycji:\", np.argsort(A))\n",
        "print(\"max:\", np.max(A))\n",
        "print(\"min:\", np.min(A))\n",
        "print(\"srednia:\", np.mean(A))\n",
        "print(\"mediana:\", np.median(A))\n",
        "print(\"odchylenie standardowe:\", np.std(A))"
      ]
    },
    {
      "cell_type": "markdown",
      "metadata": {
        "id": "pV89pfLWAX0J"
      },
      "source": [
        "###  <a name='a7'></a> Indeksowanie, Wycinanie"
      ]
    },
    {
      "cell_type": "code",
      "execution_count": 34,
      "metadata": {
        "colab": {
          "base_uri": "https://localhost:8080/"
        },
        "id": "nlGO7ztFxX8W",
        "outputId": "901f0366-30de-4a80-b88f-fc67379484cd"
      },
      "outputs": [
        {
          "output_type": "stream",
          "name": "stdout",
          "text": [
            "2\n",
            "[ 2  3  4  5  6  7  8  9 10 11 12 13 14 15 16 17 18 19]\n",
            "[0 1]\n",
            "[0 2]\n",
            "19\n",
            "[10 11 12 13 14] \n",
            "\n",
            "[[ 0  1  2  3  4]\n",
            " [ 5  6  7  8  9]\n",
            " [10 11 12 13 14]\n",
            " [15 16 17 18 19]] \n",
            "\n",
            "[[ 6  7  8]\n",
            " [11 12 13]] \n",
            "\n",
            "[[ 0  1  2  3  4]\n",
            " [ 5  6  7  8  9]\n",
            " [10 11 12 13 14]\n",
            " [15 16 17 18 19]] \n",
            "\n",
            "[[ 0  1  2  3  4]\n",
            " [ 5  6 14  8  9]\n",
            " [10 11 12 13 14]\n",
            " [15 16 17 18 19]]\n"
          ]
        }
      ],
      "source": [
        "A = np.arange(20)\n",
        "# A[idx], A[start:stop], A[:stop], A[start:]\n",
        "print(A[2])\n",
        "print(A[2:])\n",
        "print(A[:2])\n",
        "print(A[[0, 2]])\n",
        "print(A[-1])\n",
        "print(A[10:15], \"\\n\")\n",
        "A = A.reshape(4, 5)\n",
        "print(A, \"\\n\")\n",
        "print(A[1:3, 1:4], \"\\n\")\n",
        "print(A, \"\\n\")\n",
        "A[1,2] = 14\n",
        "print(A)"
      ]
    },
    {
      "cell_type": "markdown",
      "metadata": {
        "id": "vf4CfFdiD3xX"
      },
      "source": [
        "### <a name='a8'></a> Iteracja po tablicach"
      ]
    },
    {
      "cell_type": "code",
      "execution_count": null,
      "metadata": {
        "colab": {
          "base_uri": "https://localhost:8080/",
          "height": 87
        },
        "id": "nroCLVxE0-1D",
        "outputId": "d4476978-7da9-4384-da0e-f4aa61a44ecb"
      },
      "outputs": [
        {
          "data": {
            "text/plain": [
              "array([[ 0,  1,  2,  3,  4],\n",
              "       [ 5,  6, 14,  8,  9],\n",
              "       [10, 11, 12, 13, 14],\n",
              "       [15, 16, 17, 18, 19]])"
            ]
          },
          "execution_count": 137,
          "metadata": {
            "tags": []
          },
          "output_type": "execute_result"
        }
      ],
      "source": [
        "A"
      ]
    },
    {
      "cell_type": "code",
      "execution_count": null,
      "metadata": {
        "colab": {
          "base_uri": "https://localhost:8080/",
          "height": 87
        },
        "id": "k3qwe-Z31A0T",
        "outputId": "117f0965-c79b-48fe-fb2d-9e548e1f1cd1"
      },
      "outputs": [
        {
          "name": "stdout",
          "output_type": "stream",
          "text": [
            "[0 1 2 3 4]\n",
            "[ 5  6 14  8  9]\n",
            "[10 11 12 13 14]\n",
            "[15 16 17 18 19]\n"
          ]
        }
      ],
      "source": [
        "for row in A:\n",
        "    print(row)"
      ]
    },
    {
      "cell_type": "code",
      "execution_count": null,
      "metadata": {
        "colab": {
          "base_uri": "https://localhost:8080/",
          "height": 87
        },
        "id": "brrXJa131GMe",
        "outputId": "2ace4025-311a-4be3-8d76-a896445e3418"
      },
      "outputs": [
        {
          "name": "stdout",
          "output_type": "stream",
          "text": [
            "[0 1 2]\n",
            "[ 5  6 14]\n",
            "[10 11 12]\n",
            "[15 16 17]\n"
          ]
        }
      ],
      "source": [
        "for row in A:\n",
        "    print(row[:3])"
      ]
    },
    {
      "cell_type": "code",
      "execution_count": null,
      "metadata": {
        "colab": {
          "base_uri": "https://localhost:8080/",
          "height": 364
        },
        "id": "t-1ke0qM1vQv",
        "outputId": "f1003a8c-78aa-41e5-aa40-fef6a7fedb7d"
      },
      "outputs": [
        {
          "name": "stdout",
          "output_type": "stream",
          "text": [
            "0\n",
            "1\n",
            "2\n",
            "3\n",
            "4\n",
            "5\n",
            "6\n",
            "14\n",
            "8\n",
            "9\n",
            "10\n",
            "11\n",
            "12\n",
            "13\n",
            "14\n",
            "15\n",
            "16\n",
            "17\n",
            "18\n",
            "19\n"
          ]
        }
      ],
      "source": [
        "for item in A.flat:\n",
        "    print(item)"
      ]
    },
    {
      "cell_type": "markdown",
      "metadata": {
        "id": "ydh5YO0oEa-6"
      },
      "source": [
        "### <a name='a9'></a> Zmiana rozmiaru tablic"
      ]
    },
    {
      "cell_type": "code",
      "execution_count": 36,
      "metadata": {
        "colab": {
          "base_uri": "https://localhost:8080/"
        },
        "id": "3ARXQuzC15M0",
        "outputId": "abbdb95b-dc64-4818-aacc-ea54acbc05f1"
      },
      "outputs": [
        {
          "output_type": "stream",
          "name": "stdout",
          "text": [
            "[[ 0  1  2  3  4]\n",
            " [ 5  6 14  8  9]\n",
            " [10 11 12 13 14]\n",
            " [15 16 17 18 19]] \n",
            "\n",
            "(4, 5) \n",
            "\n",
            "[[ 0  1  2  3]\n",
            " [ 4  5  6 14]\n",
            " [ 8  9 10 11]\n",
            " [12 13 14 15]\n",
            " [16 17 18 19]] \n",
            "\n",
            "[ 0  1  2  3  4  5  6 14  8  9 10 11 12 13 14 15 16 17 18 19] \n",
            "\n",
            "[[ 0  5 10 15]\n",
            " [ 1  6 11 16]\n",
            " [ 2 14 12 17]\n",
            " [ 3  8 13 18]\n",
            " [ 4  9 14 19]]\n"
          ]
        }
      ],
      "source": [
        "print(A, \"\\n\")\n",
        "print(A.shape, \"\\n\")\n",
        "print(A.reshape(5,4), \"\\n\")\n",
        "print(A.ravel(), \"\\n\")\n",
        "print(A.T)"
      ]
    },
    {
      "cell_type": "markdown",
      "metadata": {
        "id": "oQbVz1kTs4Lv"
      },
      "source": [
        "### <a name='a10'></a> Maski logiczne"
      ]
    },
    {
      "cell_type": "code",
      "execution_count": null,
      "metadata": {
        "colab": {
          "base_uri": "https://localhost:8080/",
          "height": 191
        },
        "id": "ABlPSyvQ2RcE",
        "outputId": "d7b73def-6570-4826-9898-cba1f74b2300"
      },
      "outputs": [
        {
          "data": {
            "text/plain": [
              "array([[-10. ,  -9.5,  -9. ,  -8.5],\n",
              "       [ -8. ,  -7.5,  -7. ,  -6.5],\n",
              "       [ -6. ,  -5.5,  -5. ,  -4.5],\n",
              "       [ -4. ,  -3.5,  -3. ,  -2.5],\n",
              "       [ -2. ,  -1.5,  -1. ,  -0.5],\n",
              "       [  0. ,   0.5,   1. ,   1.5],\n",
              "       [  2. ,   2.5,   3. ,   3.5],\n",
              "       [  4. ,   4.5,   5. ,   5.5],\n",
              "       [  6. ,   6.5,   7. ,   7.5],\n",
              "       [  8. ,   8.5,   9. ,   9.5]])"
            ]
          },
          "execution_count": 150,
          "metadata": {
            "tags": []
          },
          "output_type": "execute_result"
        }
      ],
      "source": [
        "A = np.arange(start=-10, stop=10, step=0.5)\n",
        "A = A.reshape(10, -1)\n",
        "A"
      ]
    },
    {
      "cell_type": "code",
      "execution_count": null,
      "metadata": {
        "colab": {
          "base_uri": "https://localhost:8080/",
          "height": 191
        },
        "id": "RxhN-K9i2SXv",
        "outputId": "e255a5e4-eea1-4308-c047-430ef0b65548"
      },
      "outputs": [
        {
          "data": {
            "text/plain": [
              "array([[False, False, False, False],\n",
              "       [False, False, False, False],\n",
              "       [False, False, False, False],\n",
              "       [False, False, False, False],\n",
              "       [False, False, False, False],\n",
              "       [False,  True,  True,  True],\n",
              "       [ True,  True,  True,  True],\n",
              "       [ True,  True,  True,  True],\n",
              "       [ True,  True,  True,  True],\n",
              "       [ True,  True,  True,  True]])"
            ]
          },
          "execution_count": 151,
          "metadata": {
            "tags": []
          },
          "output_type": "execute_result"
        }
      ],
      "source": [
        "A > 0"
      ]
    },
    {
      "cell_type": "code",
      "execution_count": null,
      "metadata": {
        "colab": {
          "base_uri": "https://localhost:8080/",
          "height": 191
        },
        "id": "KtsG8-HU2ige",
        "outputId": "168682ac-8680-4502-9a3e-4c6d6191d097"
      },
      "outputs": [
        {
          "data": {
            "text/plain": [
              "array([[False, False, False, False],\n",
              "       [False, False, False, False],\n",
              "       [False, False, False,  True],\n",
              "       [ True,  True,  True,  True],\n",
              "       [ True,  True,  True,  True],\n",
              "       [ True,  True,  True,  True],\n",
              "       [ True,  True,  True,  True],\n",
              "       [ True,  True, False, False],\n",
              "       [False, False, False, False],\n",
              "       [False, False, False, False]])"
            ]
          },
          "execution_count": 154,
          "metadata": {
            "tags": []
          },
          "output_type": "execute_result"
        }
      ],
      "source": [
        "np.bitwise_and(A > -5, A < 5)"
      ]
    },
    {
      "cell_type": "code",
      "execution_count": null,
      "metadata": {
        "colab": {
          "base_uri": "https://localhost:8080/",
          "height": 52
        },
        "id": "C4emm4Kp2oHD",
        "outputId": "a6152540-f978-43bd-be9d-8683a5ef9bac"
      },
      "outputs": [
        {
          "data": {
            "text/plain": [
              "array([-4.5, -4. , -3.5, -3. , -2.5, -2. , -1.5, -1. , -0.5,  0. ,  0.5,\n",
              "        1. ,  1.5,  2. ,  2.5,  3. ,  3.5,  4. ,  4.5])"
            ]
          },
          "execution_count": 155,
          "metadata": {
            "tags": []
          },
          "output_type": "execute_result"
        }
      ],
      "source": [
        "A[np.bitwise_and(A > -5, A < 5)]"
      ]
    },
    {
      "cell_type": "code",
      "execution_count": null,
      "metadata": {
        "colab": {
          "base_uri": "https://localhost:8080/",
          "height": 191
        },
        "id": "ootgC8yf2-5W",
        "outputId": "35029a75-82ba-4fea-97e8-49f1a65e4c8f"
      },
      "outputs": [
        {
          "data": {
            "text/plain": [
              "array([[ True,  True,  True,  True],\n",
              "       [ True,  True,  True,  True],\n",
              "       [ True,  True, False, False],\n",
              "       [False, False, False, False],\n",
              "       [False, False, False, False],\n",
              "       [False, False, False, False],\n",
              "       [False, False, False, False],\n",
              "       [False, False, False,  True],\n",
              "       [ True,  True,  True,  True],\n",
              "       [ True,  True,  True,  True]])"
            ]
          },
          "execution_count": 156,
          "metadata": {
            "tags": []
          },
          "output_type": "execute_result"
        }
      ],
      "source": [
        "np.bitwise_or(A < -5, A > 5)"
      ]
    }
  ],
  "metadata": {
    "colab": {
      "provenance": [],
      "toc_visible": true,
      "include_colab_link": true
    },
    "kernelspec": {
      "display_name": "Python 3 (ipykernel)",
      "language": "python",
      "name": "python3"
    },
    "language_info": {
      "codemirror_mode": {
        "name": "ipython",
        "version": 3
      },
      "file_extension": ".py",
      "mimetype": "text/x-python",
      "name": "python",
      "nbconvert_exporter": "python",
      "pygments_lexer": "ipython3",
      "version": "3.12.7"
    }
  },
  "nbformat": 4,
  "nbformat_minor": 0
}
