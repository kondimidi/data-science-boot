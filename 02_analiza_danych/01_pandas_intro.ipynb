{
  "nbformat": 4,
  "nbformat_minor": 0,
  "metadata": {
    "colab": {
      "provenance": [],
      "toc_visible": true,
      "include_colab_link": true
    },
    "kernelspec": {
      "name": "python3",
      "display_name": "Python 3"
    }
  },
  "cells": [
    {
      "cell_type": "markdown",
      "metadata": {
        "id": "view-in-github",
        "colab_type": "text"
      },
      "source": [
        "<a href=\"https://colab.research.google.com/github/kondimidi/data-science-boot/blob/main/02_analiza_danych/01_pandas_intro.ipynb\" target=\"_parent\"><img src=\"https://colab.research.google.com/assets/colab-badge.svg\" alt=\"Open In Colab\"/></a>"
      ]
    },
    {
      "cell_type": "markdown",
      "metadata": {
        "id": "4bZ3mB0Uazid"
      },
      "source": [
        "### Pandas\n",
        ">Strona biblioteki: [https://pandas.pydata.org/](https://pandas.pydata.org/)  \n",
        ">Dokumentacja: [https://pandas.pydata.org/pandas-docs/stable/](https://pandas.pydata.org/pandas-docs/stable/)\n",
        ">\n",
        ">Podstawowa biblioteka do analizy danych w języku Python.\n",
        ">\n",
        ">Aby zainstalować bibliotekę Pandas użyj polecenia poniżej:\n",
        "```\n",
        "pip install pandas\n",
        "```\n",
        "### Spis treści:\n",
        "1. [Podstawowe struktury danych: pd.Series](#a1)\n",
        "2. [Podstawowe struktury danych: pd.DataFrame](#a2)\n",
        "3. [Selekcja kolumn](#a3)\n",
        "\n"
      ]
    },
    {
      "cell_type": "code",
      "metadata": {
        "id": "AEE5ZeP_mtQo",
        "outputId": "761ba4b1-d803-4197-b598-450ae88a87b5",
        "colab": {
          "base_uri": "https://localhost:8080/"
        }
      },
      "source": [
        "import pandas as pd\n",
        "import numpy as np\n",
        "print(pd.__version__, \"\\n\")\n",
        "print(np.__version__)"
      ],
      "execution_count": 6,
      "outputs": [
        {
          "output_type": "stream",
          "name": "stdout",
          "text": [
            "2.2.2 \n",
            "\n",
            "1.26.4\n"
          ]
        }
      ]
    },
    {
      "cell_type": "markdown",
      "metadata": {
        "id": "HPBD1LuNcqR7"
      },
      "source": [
        "### <a name='a1'></a>  Podstawowe struktury danych: pd.Series"
      ]
    },
    {
      "cell_type": "code",
      "metadata": {
        "id": "8sS6-1kH9In2",
        "outputId": "4c7a2228-ee7d-4986-d7d2-add90a7bf7da",
        "colab": {
          "base_uri": "https://localhost:8080/"
        }
      },
      "source": [
        "s = pd.Series(data=[3, 2, 4, 6])\n",
        "print(s, \"\\n\")\n",
        "s = pd.Series(data=[3., 2, 4, 6], index=['a', 'b', 'c', 'd'], name=\"something\")\n",
        "print(s, \"\\n\")\n",
        "s = pd.Series(data=[3, np.nan, 4, 6], index=['a', 'b', 'c', 'd'], name=\"something\")\n",
        "print(s, \"\\n\")\n",
        "s = pd.Series(data=[True, False, False])\n",
        "print(s, \"\\n\")\n",
        "s = pd.Series(data=np.arange(15, 20), index=pd.date_range(start='20200101', periods=5))\n",
        "print(s, \"\\n\")\n",
        "print(list(s.index))\n",
        "print(s.dtypes, \"\\n\")\n",
        "s = pd.Series(data=['python', 'java', 'sql'], name='languages')\n",
        "print(s)"
      ],
      "execution_count": 25,
      "outputs": [
        {
          "output_type": "stream",
          "name": "stdout",
          "text": [
            "0    3\n",
            "1    2\n",
            "2    4\n",
            "3    6\n",
            "dtype: int64 \n",
            "\n",
            "a    3.0\n",
            "b    2.0\n",
            "c    4.0\n",
            "d    6.0\n",
            "Name: something, dtype: float64 \n",
            "\n",
            "a    3.0\n",
            "b    NaN\n",
            "c    4.0\n",
            "d    6.0\n",
            "Name: something, dtype: float64 \n",
            "\n",
            "0     True\n",
            "1    False\n",
            "2    False\n",
            "dtype: bool \n",
            "\n",
            "2020-01-01    15\n",
            "2020-01-02    16\n",
            "2020-01-03    17\n",
            "2020-01-04    18\n",
            "2020-01-05    19\n",
            "Freq: D, dtype: int64 \n",
            "\n",
            "[Timestamp('2020-01-01 00:00:00'), Timestamp('2020-01-02 00:00:00'), Timestamp('2020-01-03 00:00:00'), Timestamp('2020-01-04 00:00:00'), Timestamp('2020-01-05 00:00:00')]\n",
            "int64 \n",
            "\n",
            "0    python\n",
            "1      java\n",
            "2       sql\n",
            "Name: languages, dtype: object\n"
          ]
        }
      ]
    },
    {
      "cell_type": "code",
      "metadata": {
        "id": "nRprQXHxBYgY",
        "outputId": "fcd6c354-4eb6-4692-c3a6-12c9a6efb7c2",
        "colab": {
          "base_uri": "https://localhost:8080/"
        }
      },
      "source": [
        "print(type(s), \"\\n\")\n",
        "print(s.index, \"\\n\")\n",
        "print(s.values, \"\\n\")\n",
        "print(s.dtypes, \"\\n\")\n",
        "print(s.shape)"
      ],
      "execution_count": 26,
      "outputs": [
        {
          "output_type": "stream",
          "name": "stdout",
          "text": [
            "<class 'pandas.core.series.Series'> \n",
            "\n",
            "RangeIndex(start=0, stop=3, step=1) \n",
            "\n",
            "['python' 'java' 'sql'] \n",
            "\n",
            "object \n",
            "\n",
            "(3,)\n"
          ]
        }
      ]
    },
    {
      "cell_type": "code",
      "metadata": {
        "id": "2lS6NFTGDG1I",
        "outputId": "0ba5568d-0d1e-4f8a-af83-bff3a6862750",
        "colab": {
          "base_uri": "https://localhost:8080/"
        }
      },
      "source": [
        "price = pd.Series(data={'Apple': 200, 'CD Projekt': 60, 'Amazon': 1900, 'KGHM': np.nan})\n",
        "print(price, \"\\n\")\n",
        "print(price['CD Projekt'], \"\\n\")\n",
        "print(price.iloc[1], \"\\n\")\n",
        "print(price.count(), \"\\n\")\n",
        "print(price.value_counts(dropna=False), \"\\n\")\n",
        "print(price.sum(), \"\\n\")\n",
        "print(price.min(), \"\\n\")\n",
        "print(price.max(), \"\\n\")\n",
        "print(price.std(), \"\\n\")\n",
        "print(price.describe(), \"\\n\")\n",
        "print(price.nlargest(2), \"\\n\")\n",
        "print(price.nsmallest(2), \"\\n\")\n",
        "print(price.rank(), \"\\n\")\n",
        "print(price.sort_values(), \"\\n\")\n",
        "print(price.sort_values(ascending=False), \"\\n\")\n",
        "price_pln = price.apply(lambda x: x * 3.8)\n",
        "print(price_pln, \"\\n\")\n",
        "print(price)"
      ],
      "execution_count": 34,
      "outputs": [
        {
          "output_type": "stream",
          "name": "stdout",
          "text": [
            "Apple          200.0\n",
            "CD Projekt      60.0\n",
            "Amazon        1900.0\n",
            "KGHM             NaN\n",
            "dtype: float64 \n",
            "\n",
            "60.0 \n",
            "\n",
            "60.0 \n",
            "\n",
            "3 \n",
            "\n",
            "200.0     1\n",
            "60.0      1\n",
            "1900.0    1\n",
            "NaN       1\n",
            "Name: count, dtype: int64 \n",
            "\n",
            "2160.0 \n",
            "\n",
            "60.0 \n",
            "\n",
            "1900.0 \n",
            "\n",
            "1024.3046421841502 \n",
            "\n",
            "count       3.000000\n",
            "mean      720.000000\n",
            "std      1024.304642\n",
            "min        60.000000\n",
            "25%       130.000000\n",
            "50%       200.000000\n",
            "75%      1050.000000\n",
            "max      1900.000000\n",
            "dtype: float64 \n",
            "\n",
            "Amazon    1900.0\n",
            "Apple      200.0\n",
            "dtype: float64 \n",
            "\n",
            "CD Projekt     60.0\n",
            "Apple         200.0\n",
            "dtype: float64 \n",
            "\n",
            "Apple         2.0\n",
            "CD Projekt    1.0\n",
            "Amazon        3.0\n",
            "KGHM          NaN\n",
            "dtype: float64 \n",
            "\n",
            "CD Projekt      60.0\n",
            "Apple          200.0\n",
            "Amazon        1900.0\n",
            "KGHM             NaN\n",
            "dtype: float64 \n",
            "\n",
            "Amazon        1900.0\n",
            "Apple          200.0\n",
            "CD Projekt      60.0\n",
            "KGHM             NaN\n",
            "dtype: float64 \n",
            "\n",
            "Apple          760.0\n",
            "CD Projekt     228.0\n",
            "Amazon        7220.0\n",
            "KGHM             NaN\n",
            "dtype: float64 \n",
            "\n",
            "Apple          200.0\n",
            "CD Projekt      60.0\n",
            "Amazon        1900.0\n",
            "KGHM             NaN\n",
            "dtype: float64\n"
          ]
        }
      ]
    },
    {
      "cell_type": "markdown",
      "metadata": {
        "id": "zv4KjA_gh9RT"
      },
      "source": [
        "### <a name='a2'></a>  Podstawowe struktury danych: pd.DataFrame\n"
      ]
    },
    {
      "cell_type": "code",
      "metadata": {
        "id": "Opkf9MuoJCn4",
        "outputId": "ef903b34-0e2b-4c74-b34f-5ad89fb68ece",
        "colab": {
          "base_uri": "https://localhost:8080/"
        }
      },
      "source": [
        "df = pd.DataFrame(data=[12, 12, 32])\n",
        "print(df, \"\\n\")\n",
        "df = pd.DataFrame(data=[11, 12, 32], index=['first', 'second', 'third'], columns=['col_1'])\n",
        "print(df, \"\\n\")\n",
        "df = pd.DataFrame(data={'WIG20': ['PKN ORLEN', 'PKO BP'],\n",
        "                        'mWIG40': ['Amica', 'Playway']})\n",
        "print(df, \"\\n\")\n",
        "df = pd.DataFrame(data=[[10, 12, 13], [23, 12, 10]], index=['first', 'second'], columns=['col_1', 'col_2', 'col_3'])\n",
        "print(df)"
      ],
      "execution_count": 39,
      "outputs": [
        {
          "output_type": "stream",
          "name": "stdout",
          "text": [
            "    0\n",
            "0  12\n",
            "1  12\n",
            "2  32 \n",
            "\n",
            "        col_1\n",
            "first      11\n",
            "second     12\n",
            "third      32 \n",
            "\n",
            "       WIG20   mWIG40\n",
            "0  PKN ORLEN    Amica\n",
            "1     PKO BP  Playway \n",
            "\n",
            "        col_1  col_2  col_3\n",
            "first      10     12     13\n",
            "second     23     12     10\n"
          ]
        }
      ]
    },
    {
      "cell_type": "code",
      "metadata": {
        "id": "8mCrzhv-KUX-",
        "outputId": "bec799ff-ad4a-4083-a9a3-4cf45c34d4a3",
        "colab": {
          "base_uri": "https://localhost:8080/"
        }
      },
      "source": [
        "print(df.columns, \"\\n\")\n",
        "print(df.index, \"\\n\")\n",
        "print(df.values, \"\\n\")\n",
        "print(df.info(), \"\\n\")\n",
        "print(df.describe(), \"\\n\")\n",
        "print(df.describe().T)"
      ],
      "execution_count": 40,
      "outputs": [
        {
          "output_type": "stream",
          "name": "stdout",
          "text": [
            "Index(['col_1', 'col_2', 'col_3'], dtype='object') \n",
            "\n",
            "Index(['first', 'second'], dtype='object') \n",
            "\n",
            "[[10 12 13]\n",
            " [23 12 10]] \n",
            "\n",
            "<class 'pandas.core.frame.DataFrame'>\n",
            "Index: 2 entries, first to second\n",
            "Data columns (total 3 columns):\n",
            " #   Column  Non-Null Count  Dtype\n",
            "---  ------  --------------  -----\n",
            " 0   col_1   2 non-null      int64\n",
            " 1   col_2   2 non-null      int64\n",
            " 2   col_3   2 non-null      int64\n",
            "dtypes: int64(3)\n",
            "memory usage: 64.0+ bytes\n",
            "None \n",
            "\n",
            "           col_1  col_2     col_3\n",
            "count   2.000000    2.0   2.00000\n",
            "mean   16.500000   12.0  11.50000\n",
            "std     9.192388    0.0   2.12132\n",
            "min    10.000000   12.0  10.00000\n",
            "25%    13.250000   12.0  10.75000\n",
            "50%    16.500000   12.0  11.50000\n",
            "75%    19.750000   12.0  12.25000\n",
            "max    23.000000   12.0  13.00000 \n",
            "\n",
            "       count  mean       std   min    25%   50%    75%   max\n",
            "col_1    2.0  16.5  9.192388  10.0  13.25  16.5  19.75  23.0\n",
            "col_2    2.0  12.0  0.000000  12.0  12.00  12.0  12.00  12.0\n",
            "col_3    2.0  11.5  2.121320  10.0  10.75  11.5  12.25  13.0\n"
          ]
        }
      ]
    },
    {
      "cell_type": "markdown",
      "metadata": {
        "id": "qReOsJ9QlGXh"
      },
      "source": [
        "### <a name='a3'> </a> Selekcja kolumn"
      ]
    },
    {
      "cell_type": "code",
      "metadata": {
        "id": "S6cV2kNz3jqD",
        "outputId": "7b1b901c-299f-4dfc-efd7-5971f4e916b2",
        "colab": {
          "base_uri": "https://localhost:8080/"
        }
      },
      "source": [
        "print(df, \"\\n\")\n",
        "print(df['col_1'], \"\\n\")\n",
        "print(type(df['col_1']), \"\\n\")\n",
        "print(df[['col_1']], \"\\n\")\n",
        "print(type(df[['col_1']]), \"\\n\")"
      ],
      "execution_count": 44,
      "outputs": [
        {
          "output_type": "stream",
          "name": "stdout",
          "text": [
            "        col_1  col_2  col_3\n",
            "first      10     12     13\n",
            "second     23     12     10 \n",
            "\n",
            "first     10\n",
            "second    23\n",
            "Name: col_1, dtype: int64 \n",
            "\n",
            "<class 'pandas.core.series.Series'> \n",
            "\n",
            "        col_1\n",
            "first      10\n",
            "second     23 \n",
            "\n",
            "<class 'pandas.core.frame.DataFrame'> \n",
            "\n"
          ]
        }
      ]
    },
    {
      "cell_type": "code",
      "metadata": {
        "id": "aB6SdGqBMPoL",
        "outputId": "3a15f945-a1e4-4ce0-c0d3-668308c38c3d",
        "colab": {
          "base_uri": "https://localhost:8080/"
        }
      },
      "source": [
        "df.columns = ['a', 'sprzedaz_grudzien', 'c']\n",
        "print(df, \"\\n\")\n",
        "print(df.sprzedaz_grudzien, \"\\n\")\n",
        "df['d'] = df.a + df.c\n",
        "print(df, \"\\n\")"
      ],
      "execution_count": 45,
      "outputs": [
        {
          "output_type": "stream",
          "name": "stdout",
          "text": [
            "         a  sprzedaz_grudzien   c\n",
            "first   10                 12  13\n",
            "second  23                 12  10 \n",
            "\n",
            "first     12\n",
            "second    12\n",
            "Name: sprzedaz_grudzien, dtype: int64 \n",
            "\n",
            "         a  sprzedaz_grudzien   c   d\n",
            "first   10                 12  13  23\n",
            "second  23                 12  10  33 \n",
            "\n"
          ]
        }
      ]
    },
    {
      "cell_type": "code",
      "metadata": {
        "id": "Qr2Jm6kXNAsP",
        "outputId": "2ecb0274-91d0-4a04-934d-0e97a402eb1c",
        "colab": {
          "base_uri": "https://localhost:8080/"
        }
      },
      "source": [
        "df = pd.DataFrame(data=[[10, 12, 13], [23, 12, 10]], index=['first', 'second'], columns=['col_1', 'col_2', 'col_3'])\n",
        "print(df, \"\\n\")\n",
        "print(df.loc['first'], \"\\n\")\n",
        "print(df.loc['first', 'col_2'], \"\\n\")\n",
        "print(df.loc[:, 'col_2'], \"\\n\")\n",
        "print(df.iloc[0], \"\\n\")\n",
        "print(df.iloc[0, 1], \"\\n\")"
      ],
      "execution_count": 46,
      "outputs": [
        {
          "output_type": "stream",
          "name": "stdout",
          "text": [
            "        col_1  col_2  col_3\n",
            "first      10     12     13\n",
            "second     23     12     10 \n",
            "\n",
            "col_1    10\n",
            "col_2    12\n",
            "col_3    13\n",
            "Name: first, dtype: int64 \n",
            "\n",
            "12 \n",
            "\n",
            "first     12\n",
            "second    12\n",
            "Name: col_2, dtype: int64 \n",
            "\n",
            "col_1    10\n",
            "col_2    12\n",
            "col_3    13\n",
            "Name: first, dtype: int64 \n",
            "\n",
            "12 \n",
            "\n"
          ]
        }
      ]
    }
  ]
}